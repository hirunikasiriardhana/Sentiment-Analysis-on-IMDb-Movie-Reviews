{
  "nbformat": 4,
  "nbformat_minor": 0,
  "metadata": {
    "colab": {
      "provenance": [],
      "gpuType": "T4"
    },
    "kernelspec": {
      "name": "python3",
      "display_name": "Python 3"
    },
    "language_info": {
      "name": "python"
    },
    "accelerator": "GPU"
  },
  "cells": [
    {
      "cell_type": "markdown",
      "source": [
        "# 01. Importing necessary libraries"
      ],
      "metadata": {
        "id": "h1kuvVld05tK"
      }
    },
    {
      "cell_type": "code",
      "execution_count": 1,
      "metadata": {
        "id": "kDQWnSKjfbUM"
      },
      "outputs": [],
      "source": [
        "import pandas as pd#used to load, process, and manipulate the dataset.\n",
        "import numpy as np#It provides support for arrays and matrices, along with mathematical functions.\n",
        "import tensorflow as tf#An open-source deep learning framework used to build and train neural networks.\n",
        "from tensorflow.keras.preprocessing.text import Tokenizer#Tokenizer: Used to convert text to sequences of integers.\n",
        "#pad_sequences: Used to ensure all sequences in a list have the same length by padding shorter sequences.\n",
        "from tensorflow.keras.preprocessing.sequence import pad_sequences\n",
        "#Sequential: A linear stack of layers for building the neural network.\n",
        "from tensorflow.keras.models import Sequential\n",
        "#Embedding: A layer to convert input sequences into dense vectors of fixed size.\n",
        "#LSTM: Long Short-Term Memory layer, a type of RNN used for learning long-term dependencies.\n",
        "#Dense: A fully connected layer.\n",
        "#Dropout: A regularization layer to prevent overfitting by randomly setting a fraction of input units to 0 at each update during training.\n",
        "from tensorflow.keras.layers import Embedding, LSTM, Dense, Dropout\n",
        "#train_test_split: Used to split the dataset into training and testing sets.\n",
        "from sklearn.model_selection import train_test_split\n",
        "#accuracy_score: To compute the accuracy of the model.\n",
        "#classification_report: To generate a detailed report on the precision, recall, f1-score, and support.\n",
        "from sklearn.metrics import accuracy_score, classification_report\n",
        "# plotting library used for data visualization.\n",
        "import matplotlib.pyplot as plt\n",
        "#data visualization library based on Matplotlib that provides a high-level interface for drawing attractive and informative statistical graphics.\n",
        "import seaborn as sns\n",
        "#The Natural Language Toolkit, a library for working with human language data (text).\n",
        "import nltk\n",
        "#stopwords: Common words (like 'the', 'and', etc.) that are usually removed from text data during preprocessing.\n",
        "from nltk.corpus import stopwords\n",
        "#The regular expression library in Python, used for text processing and pattern matching.\n",
        "import re"
      ]
    },
    {
      "cell_type": "markdown",
      "source": [
        "#02. Load the dataset"
      ],
      "metadata": {
        "id": "fzs93EKY09ZS"
      }
    },
    {
      "cell_type": "code",
      "source": [
        "#df, which stands for DataFrame\n",
        "#This line of code uses the pandas library's read_csv function to read the contents of the file named IMDB Dataset.csv.\n",
        "df = pd.read_csv('IMDB Dataset.csv')\n",
        "#The df.head() function displays the first 5 rows of the DataFrame, providing a quick look at the data's structure and content.\n",
        "df.head()"
      ],
      "metadata": {
        "colab": {
          "base_uri": "https://localhost:8080/",
          "height": 206
        },
        "id": "L4vRLnrEiCWS",
        "outputId": "d4357c4b-7e69-4c4e-ff5a-c11c7480f46b"
      },
      "execution_count": 19,
      "outputs": [
        {
          "output_type": "execute_result",
          "data": {
            "text/plain": [
              "                                              review sentiment\n",
              "0  One of the other reviewers has mentioned that ...  positive\n",
              "1  A wonderful little production. <br /><br />The...  positive\n",
              "2  I thought this was a wonderful way to spend ti...  positive\n",
              "3  Basically there's a family where a little boy ...  negative\n",
              "4  Petter Mattei's \"Love in the Time of Money\" is...  positive"
            ],
            "text/html": [
              "\n",
              "  <div id=\"df-ca970454-a61e-4fdb-bdb2-45967ec2a6d4\" class=\"colab-df-container\">\n",
              "    <div>\n",
              "<style scoped>\n",
              "    .dataframe tbody tr th:only-of-type {\n",
              "        vertical-align: middle;\n",
              "    }\n",
              "\n",
              "    .dataframe tbody tr th {\n",
              "        vertical-align: top;\n",
              "    }\n",
              "\n",
              "    .dataframe thead th {\n",
              "        text-align: right;\n",
              "    }\n",
              "</style>\n",
              "<table border=\"1\" class=\"dataframe\">\n",
              "  <thead>\n",
              "    <tr style=\"text-align: right;\">\n",
              "      <th></th>\n",
              "      <th>review</th>\n",
              "      <th>sentiment</th>\n",
              "    </tr>\n",
              "  </thead>\n",
              "  <tbody>\n",
              "    <tr>\n",
              "      <th>0</th>\n",
              "      <td>One of the other reviewers has mentioned that ...</td>\n",
              "      <td>positive</td>\n",
              "    </tr>\n",
              "    <tr>\n",
              "      <th>1</th>\n",
              "      <td>A wonderful little production. &lt;br /&gt;&lt;br /&gt;The...</td>\n",
              "      <td>positive</td>\n",
              "    </tr>\n",
              "    <tr>\n",
              "      <th>2</th>\n",
              "      <td>I thought this was a wonderful way to spend ti...</td>\n",
              "      <td>positive</td>\n",
              "    </tr>\n",
              "    <tr>\n",
              "      <th>3</th>\n",
              "      <td>Basically there's a family where a little boy ...</td>\n",
              "      <td>negative</td>\n",
              "    </tr>\n",
              "    <tr>\n",
              "      <th>4</th>\n",
              "      <td>Petter Mattei's \"Love in the Time of Money\" is...</td>\n",
              "      <td>positive</td>\n",
              "    </tr>\n",
              "  </tbody>\n",
              "</table>\n",
              "</div>\n",
              "    <div class=\"colab-df-buttons\">\n",
              "\n",
              "  <div class=\"colab-df-container\">\n",
              "    <button class=\"colab-df-convert\" onclick=\"convertToInteractive('df-ca970454-a61e-4fdb-bdb2-45967ec2a6d4')\"\n",
              "            title=\"Convert this dataframe to an interactive table.\"\n",
              "            style=\"display:none;\">\n",
              "\n",
              "  <svg xmlns=\"http://www.w3.org/2000/svg\" height=\"24px\" viewBox=\"0 -960 960 960\">\n",
              "    <path d=\"M120-120v-720h720v720H120Zm60-500h600v-160H180v160Zm220 220h160v-160H400v160Zm0 220h160v-160H400v160ZM180-400h160v-160H180v160Zm440 0h160v-160H620v160ZM180-180h160v-160H180v160Zm440 0h160v-160H620v160Z\"/>\n",
              "  </svg>\n",
              "    </button>\n",
              "\n",
              "  <style>\n",
              "    .colab-df-container {\n",
              "      display:flex;\n",
              "      gap: 12px;\n",
              "    }\n",
              "\n",
              "    .colab-df-convert {\n",
              "      background-color: #E8F0FE;\n",
              "      border: none;\n",
              "      border-radius: 50%;\n",
              "      cursor: pointer;\n",
              "      display: none;\n",
              "      fill: #1967D2;\n",
              "      height: 32px;\n",
              "      padding: 0 0 0 0;\n",
              "      width: 32px;\n",
              "    }\n",
              "\n",
              "    .colab-df-convert:hover {\n",
              "      background-color: #E2EBFA;\n",
              "      box-shadow: 0px 1px 2px rgba(60, 64, 67, 0.3), 0px 1px 3px 1px rgba(60, 64, 67, 0.15);\n",
              "      fill: #174EA6;\n",
              "    }\n",
              "\n",
              "    .colab-df-buttons div {\n",
              "      margin-bottom: 4px;\n",
              "    }\n",
              "\n",
              "    [theme=dark] .colab-df-convert {\n",
              "      background-color: #3B4455;\n",
              "      fill: #D2E3FC;\n",
              "    }\n",
              "\n",
              "    [theme=dark] .colab-df-convert:hover {\n",
              "      background-color: #434B5C;\n",
              "      box-shadow: 0px 1px 3px 1px rgba(0, 0, 0, 0.15);\n",
              "      filter: drop-shadow(0px 1px 2px rgba(0, 0, 0, 0.3));\n",
              "      fill: #FFFFFF;\n",
              "    }\n",
              "  </style>\n",
              "\n",
              "    <script>\n",
              "      const buttonEl =\n",
              "        document.querySelector('#df-ca970454-a61e-4fdb-bdb2-45967ec2a6d4 button.colab-df-convert');\n",
              "      buttonEl.style.display =\n",
              "        google.colab.kernel.accessAllowed ? 'block' : 'none';\n",
              "\n",
              "      async function convertToInteractive(key) {\n",
              "        const element = document.querySelector('#df-ca970454-a61e-4fdb-bdb2-45967ec2a6d4');\n",
              "        const dataTable =\n",
              "          await google.colab.kernel.invokeFunction('convertToInteractive',\n",
              "                                                    [key], {});\n",
              "        if (!dataTable) return;\n",
              "\n",
              "        const docLinkHtml = 'Like what you see? Visit the ' +\n",
              "          '<a target=\"_blank\" href=https://colab.research.google.com/notebooks/data_table.ipynb>data table notebook</a>'\n",
              "          + ' to learn more about interactive tables.';\n",
              "        element.innerHTML = '';\n",
              "        dataTable['output_type'] = 'display_data';\n",
              "        await google.colab.output.renderOutput(dataTable, element);\n",
              "        const docLink = document.createElement('div');\n",
              "        docLink.innerHTML = docLinkHtml;\n",
              "        element.appendChild(docLink);\n",
              "      }\n",
              "    </script>\n",
              "  </div>\n",
              "\n",
              "\n",
              "<div id=\"df-963676a9-c6c8-4823-81fd-61f16357f401\">\n",
              "  <button class=\"colab-df-quickchart\" onclick=\"quickchart('df-963676a9-c6c8-4823-81fd-61f16357f401')\"\n",
              "            title=\"Suggest charts\"\n",
              "            style=\"display:none;\">\n",
              "\n",
              "<svg xmlns=\"http://www.w3.org/2000/svg\" height=\"24px\"viewBox=\"0 0 24 24\"\n",
              "     width=\"24px\">\n",
              "    <g>\n",
              "        <path d=\"M19 3H5c-1.1 0-2 .9-2 2v14c0 1.1.9 2 2 2h14c1.1 0 2-.9 2-2V5c0-1.1-.9-2-2-2zM9 17H7v-7h2v7zm4 0h-2V7h2v10zm4 0h-2v-4h2v4z\"/>\n",
              "    </g>\n",
              "</svg>\n",
              "  </button>\n",
              "\n",
              "<style>\n",
              "  .colab-df-quickchart {\n",
              "      --bg-color: #E8F0FE;\n",
              "      --fill-color: #1967D2;\n",
              "      --hover-bg-color: #E2EBFA;\n",
              "      --hover-fill-color: #174EA6;\n",
              "      --disabled-fill-color: #AAA;\n",
              "      --disabled-bg-color: #DDD;\n",
              "  }\n",
              "\n",
              "  [theme=dark] .colab-df-quickchart {\n",
              "      --bg-color: #3B4455;\n",
              "      --fill-color: #D2E3FC;\n",
              "      --hover-bg-color: #434B5C;\n",
              "      --hover-fill-color: #FFFFFF;\n",
              "      --disabled-bg-color: #3B4455;\n",
              "      --disabled-fill-color: #666;\n",
              "  }\n",
              "\n",
              "  .colab-df-quickchart {\n",
              "    background-color: var(--bg-color);\n",
              "    border: none;\n",
              "    border-radius: 50%;\n",
              "    cursor: pointer;\n",
              "    display: none;\n",
              "    fill: var(--fill-color);\n",
              "    height: 32px;\n",
              "    padding: 0;\n",
              "    width: 32px;\n",
              "  }\n",
              "\n",
              "  .colab-df-quickchart:hover {\n",
              "    background-color: var(--hover-bg-color);\n",
              "    box-shadow: 0 1px 2px rgba(60, 64, 67, 0.3), 0 1px 3px 1px rgba(60, 64, 67, 0.15);\n",
              "    fill: var(--button-hover-fill-color);\n",
              "  }\n",
              "\n",
              "  .colab-df-quickchart-complete:disabled,\n",
              "  .colab-df-quickchart-complete:disabled:hover {\n",
              "    background-color: var(--disabled-bg-color);\n",
              "    fill: var(--disabled-fill-color);\n",
              "    box-shadow: none;\n",
              "  }\n",
              "\n",
              "  .colab-df-spinner {\n",
              "    border: 2px solid var(--fill-color);\n",
              "    border-color: transparent;\n",
              "    border-bottom-color: var(--fill-color);\n",
              "    animation:\n",
              "      spin 1s steps(1) infinite;\n",
              "  }\n",
              "\n",
              "  @keyframes spin {\n",
              "    0% {\n",
              "      border-color: transparent;\n",
              "      border-bottom-color: var(--fill-color);\n",
              "      border-left-color: var(--fill-color);\n",
              "    }\n",
              "    20% {\n",
              "      border-color: transparent;\n",
              "      border-left-color: var(--fill-color);\n",
              "      border-top-color: var(--fill-color);\n",
              "    }\n",
              "    30% {\n",
              "      border-color: transparent;\n",
              "      border-left-color: var(--fill-color);\n",
              "      border-top-color: var(--fill-color);\n",
              "      border-right-color: var(--fill-color);\n",
              "    }\n",
              "    40% {\n",
              "      border-color: transparent;\n",
              "      border-right-color: var(--fill-color);\n",
              "      border-top-color: var(--fill-color);\n",
              "    }\n",
              "    60% {\n",
              "      border-color: transparent;\n",
              "      border-right-color: var(--fill-color);\n",
              "    }\n",
              "    80% {\n",
              "      border-color: transparent;\n",
              "      border-right-color: var(--fill-color);\n",
              "      border-bottom-color: var(--fill-color);\n",
              "    }\n",
              "    90% {\n",
              "      border-color: transparent;\n",
              "      border-bottom-color: var(--fill-color);\n",
              "    }\n",
              "  }\n",
              "</style>\n",
              "\n",
              "  <script>\n",
              "    async function quickchart(key) {\n",
              "      const quickchartButtonEl =\n",
              "        document.querySelector('#' + key + ' button');\n",
              "      quickchartButtonEl.disabled = true;  // To prevent multiple clicks.\n",
              "      quickchartButtonEl.classList.add('colab-df-spinner');\n",
              "      try {\n",
              "        const charts = await google.colab.kernel.invokeFunction(\n",
              "            'suggestCharts', [key], {});\n",
              "      } catch (error) {\n",
              "        console.error('Error during call to suggestCharts:', error);\n",
              "      }\n",
              "      quickchartButtonEl.classList.remove('colab-df-spinner');\n",
              "      quickchartButtonEl.classList.add('colab-df-quickchart-complete');\n",
              "    }\n",
              "    (() => {\n",
              "      let quickchartButtonEl =\n",
              "        document.querySelector('#df-963676a9-c6c8-4823-81fd-61f16357f401 button');\n",
              "      quickchartButtonEl.style.display =\n",
              "        google.colab.kernel.accessAllowed ? 'block' : 'none';\n",
              "    })();\n",
              "  </script>\n",
              "</div>\n",
              "\n",
              "    </div>\n",
              "  </div>\n"
            ],
            "application/vnd.google.colaboratory.intrinsic+json": {
              "type": "dataframe",
              "variable_name": "df",
              "summary": "{\n  \"name\": \"df\",\n  \"rows\": 50000,\n  \"fields\": [\n    {\n      \"column\": \"review\",\n      \"properties\": {\n        \"dtype\": \"string\",\n        \"num_unique_values\": 49582,\n        \"samples\": [\n          \"\\\"Soul Plane\\\" is a horrible attempt at comedy that only should appeal people with thick skulls, bloodshot eyes and furry pawns. <br /><br />The plot is not only incoherent but also non-existent, acting is mostly sub sub-par with a gang of highly moronic and dreadful characters thrown in for bad measure, jokes are often spotted miles ahead and almost never even a bit amusing. This movie lacks any structure and is full of racial stereotypes that must have seemed old even in the fifties, the only thing it really has going for it is some pretty ladies, but really, if you want that you can rent something from the \\\"Adult\\\" section. OK?<br /><br />I can hardly see anything here to recommend since you'll probably have a lot a better and productive time chasing rats with a sledgehammer or inventing waterproof teabags or whatever.<br /><br />2/10\",\n          \"Guest from the Future tells a fascinating story of time travel, friendship, battle of good and evil -- all with a small budget, child actors, and few special effects. Something for Spielberg and Lucas to learn from. ;) A sixth-grader Kolya \\\"Nick\\\" Gerasimov finds a time machine in the basement of a decrepit building and travels 100 years into the future. He discovers a near-perfect, utopian society where robots play guitars and write poetry, everyone is kind to each other and people enjoy everything technology has to offer. Alice is the daughter of a prominent scientist who invented a device called Mielophone that allows to read minds of humans and animals. The device can be put to both good and bad use, depending on whose hands it falls into. When two evil space pirates from Saturn who want to rule the universe attempt to steal Mielophone, it falls into the hands of 20th century school boy Nick. With the pirates hot on his tracks, he travels back to his time, followed by the pirates, and Alice. Chaos, confusion and funny situations follow as the luckless pirates try to blend in with the earthlings. Alice enrolls in the same school Nick goes to and demonstrates superhuman abilities in PE class. The catch is, Alice doesn't know what Nick looks like, while the pirates do. Also, the pirates are able to change their appearance and turn literally into anyone. (Hmm, I wonder if this is where James Cameron got the idea for Terminator...) Who gets to Nick -- and Mielophone -- first? Excellent plot, non-stop adventures, and great soundtrack. I wish Hollywood made kid movies like this one...\",\n          \"\\\"National Treasure\\\" (2004) is a thoroughly misguided hodge-podge of plot entanglements that borrow from nearly every cloak and dagger government conspiracy clich\\u00e9 that has ever been written. The film stars Nicholas Cage as Benjamin Franklin Gates (how precious is that, I ask you?); a seemingly normal fellow who, for no other reason than being of a lineage of like-minded misguided fortune hunters, decides to steal a 'national treasure' that has been hidden by the United States founding fathers. After a bit of subtext and background that plays laughably (unintentionally) like Indiana Jones meets The Patriot, the film degenerates into one misguided whimsy after another \\u0096 attempting to create a 'Stanley Goodspeed' regurgitation of Nicholas Cage and launch the whole convoluted mess forward with a series of high octane, but disconnected misadventures.<br /><br />The relevancy and logic to having George Washington and his motley crew of patriots burying a king's ransom someplace on native soil, and then, going through the meticulous plan of leaving clues scattered throughout U.S. currency art work, is something that director Jon Turteltaub never quite gets around to explaining. Couldn't Washington found better usage for such wealth during the start up of the country? Hence, we are left with a mystery built on top of an enigma that is already on shaky ground by the time Ben appoints himself the new custodian of this untold wealth. Ben's intentions are noble \\u0096 if confusing. He's set on protecting the treasure. For who and when?\\u0085your guess is as good as mine.<br /><br />But there are a few problems with Ben's crusade. First up, his friend, Ian Holmes (Sean Bean) decides that he can't wait for Ben to make up his mind about stealing the Declaration of Independence from the National Archives (oh, yeah \\u0096 brilliant idea!). Presumably, the back of that famous document holds the secret answer to the ultimate fortune. So Ian tries to kill Ben. The assassination attempt is, of course, unsuccessful, if overly melodramatic. It also affords Ben the opportunity to pick up, and pick on, the very sultry curator of the archives, Abigail Chase (Diane Kruger). She thinks Ben is clearly a nut \\u0096 at least at the beginning. But true to action/romance form, Abby's resolve melts quicker than you can say, \\\"is that the Hope Diamond?\\\" The film moves into full X-File-ish mode, as the FBI, mistakenly believing that Ben is behind the theft, retaliate in various benign ways that lead to a multi-layering of action sequences reminiscent of Mission Impossible meets The Fugitive. Honestly, don't those guys ever get 'intelligence' information that is correct? In the final analysis, \\\"National Treasure\\\" isn't great film making, so much as it's a patchwork rehash of tired old bits from other movies, woven together from scraps, the likes of which would make IL' Betsy Ross blush.<br /><br />The Buena Vista DVD delivers a far more generous treatment than this film is deserving of. The anamorphic widescreen picture exhibits a very smooth and finely detailed image with very rich colors, natural flesh tones, solid blacks and clean whites. The stylized image is also free of blemishes and digital enhancements. The audio is 5.1 and delivers a nice sonic boom to your side and rear speakers with intensity and realism. Extras include a host of promotional junket material that is rather deep and over the top in its explanation of how and why this film was made. If only, as an audience, we had had more clarification as to why Ben and co. were chasing after an illusive treasure, this might have been one good flick. Extras conclude with the theatrical trailer, audio commentary and deleted scenes. Not for the faint-hearted \\u0096 just the thick-headed.\"\n        ],\n        \"semantic_type\": \"\",\n        \"description\": \"\"\n      }\n    },\n    {\n      \"column\": \"sentiment\",\n      \"properties\": {\n        \"dtype\": \"category\",\n        \"num_unique_values\": 2,\n        \"samples\": [\n          \"negative\",\n          \"positive\"\n        ],\n        \"semantic_type\": \"\",\n        \"description\": \"\"\n      }\n    }\n  ]\n}"
            }
          },
          "metadata": {},
          "execution_count": 19
        }
      ]
    },
    {
      "cell_type": "markdown",
      "source": [
        "#03. Preprocessing the data"
      ],
      "metadata": {
        "id": "u2Tok2oY1HFW"
      }
    },
    {
      "cell_type": "code",
      "source": [
        "#This line downloads the 'stopwords' dataset from the Natural Language Toolkit (NLTK). Stopwords are commonly used words\n",
        "#(like \"and\", \"the\", \"is\") that are often removed from text data because they don't carry significant meaning in the context of text analysis.\n",
        "nltk.download('stopwords')\n",
        "#stop_words will be used to filter out these common words from the text data.\n",
        "#nglish stopwords using stopwords.words('english') from the NLTK library and converts it into a set for faster membership testing.\n",
        "stop_words = set(stopwords.words('english'))\n",
        "\n",
        "def preprocess_text(text):\n",
        "  #This line converts all the characters in the text to lowercase.\n",
        "    text = text.lower()\n",
        "  #This line uses the re.sub function from the re (regular expression) module to replace occurrences of HTML line break tags (<br />) with a space.\n",
        "    text = re.sub(r'<br />', ' ', text)\n",
        "  #This line removes all characters from the text that are not alphabetic (a-z, A-Z) or whitespace.\n",
        "    text = re.sub(r'[^a-zA-Z\\s]', '', text)\n",
        "  #This line removes common words (stopwords) from the text.\n",
        "    text = ' '.join([word for word in text.split() if word not in stop_words])\n",
        "  #This line returns the cleaned and processed version of the input text.\n",
        "    return text\n",
        "#This part of the code accesses the 'review' column of the DataFrame df.\n",
        "#The apply() method is used to apply a function along an axis of the DataFrame.\n",
        "df['review'] = df['review'].apply(preprocess_text)"
      ],
      "metadata": {
        "colab": {
          "base_uri": "https://localhost:8080/"
        },
        "id": "oS7sVVyQiDJB",
        "outputId": "377861e5-e34b-4f5d-c6bf-921b6706da50"
      },
      "execution_count": 3,
      "outputs": [
        {
          "output_type": "stream",
          "name": "stderr",
          "text": [
            "[nltk_data] Downloading package stopwords to /root/nltk_data...\n",
            "[nltk_data]   Unzipping corpora/stopwords.zip.\n"
          ]
        }
      ]
    },
    {
      "cell_type": "markdown",
      "source": [
        "#04. Tokenize and pad the text data"
      ],
      "metadata": {
        "id": "cQmnz97g1Prd"
      }
    },
    {
      "cell_type": "code",
      "source": [
        "\n",
        "#This line creates an instance of the Tokenizer class from Keras.\n",
        "#num_words=5000: Limits the tokenizer to only consider the top 5000 most frequent words in the dataset.\n",
        "#oov_token='<OOV>': Specifies a token (<OOV>) to represent any words that are not in the top 5000 words.\n",
        "tokenizer = Tokenizer(num_words=5000, oov_token='<OOV>')\n",
        "#This line fits the tokenizer on the 'review' column of the DataFrame df.\n",
        "#fit_on_texts(): Analyzes the text data and builds the vocabulary index based on the words in the 'review' column.\n",
        "tokenizer.fit_on_texts(df['review'])\n",
        "#This line converts the text data into sequences of integers based on the tokenizer’s vocabulary.\n",
        "sequences = tokenizer.texts_to_sequences(df['review'])\n",
        "#sequences: The list of sequences (integer lists) to be padded.\n",
        "#padding='post': Specifies that padding should be added at the end of the sequences. This means that if the sequence is shorter than maxlen, zeros will be added at the end.\n",
        "#maxlen=200: Sets the maximum length of the sequences. If a sequence is longer than this length, it will be truncated. If it is shorter, it will be padded to this length.\n",
        "padded_sequences = pad_sequences(sequences, padding='post', maxlen=200)"
      ],
      "metadata": {
        "id": "A2aSep2oiJHx"
      },
      "execution_count": 4,
      "outputs": []
    },
    {
      "cell_type": "markdown",
      "source": [
        "#05. Prepare the labels"
      ],
      "metadata": {
        "id": "GykFPjIR1T_C"
      }
    },
    {
      "cell_type": "code",
      "source": [
        "#This line converts the textual sentiment labels in the 'sentiment' column of the DataFrame df into numerical values.\n",
        "df['sentiment'] = df['sentiment'].apply(lambda x: 1 if x == 'positive' else 0)\n",
        "#This line extracts the processed sentiment labels from the DataFrame and stores them in a NumPy array called labels.\n",
        "labels = df['sentiment'].values"
      ],
      "metadata": {
        "id": "3L6ITI83iNKq"
      },
      "execution_count": 5,
      "outputs": []
    },
    {
      "cell_type": "markdown",
      "source": [
        "#06. Split the data into training and testing sets"
      ],
      "metadata": {
        "id": "b5rmyLj31aUO"
      }
    },
    {
      "cell_type": "code",
      "source": [
        "#This line splits the dataset into training and testing sets.\n",
        "X_train, X_test, y_train, y_test = train_test_split(padded_sequences, labels, test_size=0.2, random_state=42)"
      ],
      "metadata": {
        "id": "ttbI0LgriRcx"
      },
      "execution_count": 6,
      "outputs": []
    },
    {
      "cell_type": "markdown",
      "source": [
        "#07. Create the LSTM model"
      ],
      "metadata": {
        "id": "4d3RJMPb1irF"
      }
    },
    {
      "cell_type": "code",
      "source": [
        "#Initializes a Sequential model. The Sequential class in Keras is a linear stack of layers where you can simply add layers one after the other.\n",
        "model = Sequential([\n",
        "    #Converts integer sequences into dense vector representations.\n",
        "    Embedding(input_dim=5000, output_dim=64, input_length=200),\n",
        "    #Applies an LSTM (Long Short-Term Memory) layer to the input data.\n",
        "    LSTM(64, return_sequences=True),\n",
        "    #Applies dropout regularization to prevent overfitting.\n",
        "    Dropout(0.5),\n",
        "    #Adds another LSTM layer.\n",
        "    LSTM(64),\n",
        "    #Adds dropout regularization after the second LSTM layer to further prevent overfitting.\n",
        "    Dropout(0.5),\n",
        "    #Number of output units. For binary classification, we only need one output unit.\n",
        "    #activation='sigmoid': Uses the sigmoid activation function, which outputs a value between 0 and 1, suitable for binary classification problems.\n",
        "    Dense(1, activation='sigmoid')\n",
        "])\n",
        "#Configures the model for training.\n",
        "model.compile(loss='binary_crossentropy', optimizer='adam', metrics=['accuracy'])"
      ],
      "metadata": {
        "id": "8E-SDR4siUho"
      },
      "execution_count": 7,
      "outputs": []
    },
    {
      "cell_type": "markdown",
      "source": [
        "#08. Train the model"
      ],
      "metadata": {
        "id": "yFVb6o0H1nwW"
      }
    },
    {
      "cell_type": "code",
      "source": [
        "#model.fit initiates the training process with the specified parameters.\n",
        "#X_train and y_train are used to train the model.\n",
        "#Defines how many times the model will iterate over the entire training data.\n",
        "#Specifies the number of samples processed before updating the model weights.\n",
        "#Evaluates the model on unseen test data to monitor its performance during training.\n",
        "history = model.fit(X_train, y_train, epochs=5, batch_size=64, validation_data=(X_test, y_test))"
      ],
      "metadata": {
        "colab": {
          "base_uri": "https://localhost:8080/"
        },
        "id": "ziC5sHzXiZQp",
        "outputId": "2ebb141d-646c-4b35-9acb-b2eff5eaf0d0"
      },
      "execution_count": 8,
      "outputs": [
        {
          "output_type": "stream",
          "name": "stdout",
          "text": [
            "Epoch 1/5\n",
            "625/625 [==============================] - 234s 367ms/step - loss: 0.6944 - accuracy: 0.5131 - val_loss: 0.6930 - val_accuracy: 0.4974\n",
            "Epoch 2/5\n",
            "625/625 [==============================] - 221s 354ms/step - loss: 0.6939 - accuracy: 0.5081 - val_loss: 0.6930 - val_accuracy: 0.4961\n",
            "Epoch 3/5\n",
            "625/625 [==============================] - 219s 350ms/step - loss: 0.6555 - accuracy: 0.5872 - val_loss: 0.6922 - val_accuracy: 0.5070\n",
            "Epoch 4/5\n",
            "625/625 [==============================] - 215s 344ms/step - loss: 0.6905 - accuracy: 0.5045 - val_loss: 0.6864 - val_accuracy: 0.4961\n",
            "Epoch 5/5\n",
            "625/625 [==============================] - 218s 349ms/step - loss: 0.6702 - accuracy: 0.5627 - val_loss: 0.6371 - val_accuracy: 0.6366\n"
          ]
        }
      ]
    },
    {
      "cell_type": "markdown",
      "source": [
        "#09. Evaluate the model"
      ],
      "metadata": {
        "id": "bN3J90HG1vGA"
      }
    },
    {
      "cell_type": "code",
      "source": [
        "#This line evaluates the performance of the trained model on the test data.\n",
        "loss, accuracy = model.evaluate(X_test, y_test)\n",
        "#This line prints the test accuracy in a human-readable format.\n",
        "print(f'Test Accuracy: {accuracy*100:.2f}%')"
      ],
      "metadata": {
        "colab": {
          "base_uri": "https://localhost:8080/"
        },
        "id": "YIwn1QjOidW6",
        "outputId": "dc9a556a-cea9-449e-bc2f-e38d5235ce54"
      },
      "execution_count": 9,
      "outputs": [
        {
          "output_type": "stream",
          "name": "stdout",
          "text": [
            "313/313 [==============================] - 23s 74ms/step - loss: 0.6371 - accuracy: 0.6366\n",
            "Test Accuracy: 63.66%\n"
          ]
        }
      ]
    },
    {
      "cell_type": "markdown",
      "source": [
        "#10. Make predictions"
      ],
      "metadata": {
        "id": "YZk5CAN_11OO"
      }
    },
    {
      "cell_type": "code",
      "source": [
        "#This method generates predictions from the trained model based on the input data (X_test).\n",
        "#model.predict(X_test) > 0.5 Converts the predicted probabilities into binary class labels.\n",
        "y_pred = (model.predict(X_test) > 0.5).astype(\"int32\")"
      ],
      "metadata": {
        "colab": {
          "base_uri": "https://localhost:8080/"
        },
        "id": "tShBSd7InMQA",
        "outputId": "c2814b1a-5d49-4643-a108-75597326e210"
      },
      "execution_count": 10,
      "outputs": [
        {
          "output_type": "stream",
          "name": "stdout",
          "text": [
            "313/313 [==============================] - 24s 71ms/step\n"
          ]
        }
      ]
    },
    {
      "cell_type": "markdown",
      "source": [
        "#11. Classification report"
      ],
      "metadata": {
        "id": "N3i9ulF-14g8"
      }
    },
    {
      "cell_type": "code",
      "source": [
        "#produces a detailed report of precision, recall, F1-score, and support for each class, as well as overall accuracy.\n",
        "#print(...) displays this report in the console, allowing you to evaluate the model’s performance comprehensively.\n",
        "print(classification_report(y_test, y_pred))"
      ],
      "metadata": {
        "colab": {
          "base_uri": "https://localhost:8080/"
        },
        "id": "oHqiRII_nM55",
        "outputId": "235bafcb-01f6-4a16-c0a3-6c0f84afacd6"
      },
      "execution_count": 11,
      "outputs": [
        {
          "output_type": "stream",
          "name": "stdout",
          "text": [
            "              precision    recall  f1-score   support\n",
            "\n",
            "           0       0.80      0.36      0.49      4961\n",
            "           1       0.59      0.91      0.72      5039\n",
            "\n",
            "    accuracy                           0.64     10000\n",
            "   macro avg       0.69      0.63      0.61     10000\n",
            "weighted avg       0.69      0.64      0.61     10000\n",
            "\n"
          ]
        }
      ]
    },
    {
      "cell_type": "markdown",
      "source": [
        "#12. Visualize the results"
      ],
      "metadata": {
        "id": "ej2Rwo982CS0"
      }
    },
    {
      "cell_type": "code",
      "source": [
        "# Plot accuracy\n",
        "plt.figure(figsize=(12, 6))\n",
        "plt.plot(history.history['accuracy'], label='Train Accuracy')\n",
        "plt.plot(history.history['val_accuracy'], label='Validation Accuracy')\n",
        "plt.title('Model Accuracy')\n",
        "plt.xlabel('Epochs')\n",
        "plt.ylabel('Accuracy')\n",
        "plt.legend()\n",
        "plt.show()"
      ],
      "metadata": {
        "colab": {
          "base_uri": "https://localhost:8080/",
          "height": 564
        },
        "id": "oXVYwjsEnXty",
        "outputId": "db1b195f-8c32-44de-b8d3-0ff7658a64b6"
      },
      "execution_count": 12,
      "outputs": [
        {
          "output_type": "display_data",
          "data": {
            "text/plain": [
              "<Figure size 1200x600 with 1 Axes>"
            ],
            "image/png": "[encoded data removed]"
          },
          "metadata": {}
        }
      ]
    },
    {
      "cell_type": "markdown",
      "source": [
        "#13. Plot loss"
      ],
      "metadata": {
        "id": "7nvaFW722GEX"
      }
    },
    {
      "cell_type": "code",
      "source": [
        "\n",
        "plt.figure(figsize=(12, 6))\n",
        "plt.plot(history.history['loss'], label='Train Loss')\n",
        "plt.plot(history.history['val_loss'], label='Validation Loss')\n",
        "plt.title('Model Loss')\n",
        "plt.xlabel('Epochs')\n",
        "plt.ylabel('Loss')\n",
        "plt.legend()\n",
        "plt.show()"
      ],
      "metadata": {
        "colab": {
          "base_uri": "https://localhost:8080/",
          "height": 564
        },
        "id": "95dEcwqHnYPl",
        "outputId": "3fb01e79-f687-4c1c-d7c3-ef215e67ae66"
      },
      "execution_count": 13,
      "outputs": [
        {
          "output_type": "display_data",
          "data": {
            "text/plain": [
              "<Figure size 1200x600 with 1 Axes>"
            ],
            "image/png": "[encoded data removed]"
          },
          "metadata": {}
        }
      ]
    },
    {
      "cell_type": "markdown",
      "source": [
        "#14. Function to preprocess and predict sentiment of new reviews"
      ],
      "metadata": {
        "id": "mxfSKmYD2Mv7"
      }
    },
    {
      "cell_type": "code",
      "source": [
        "\n",
        "def predict_sentiment(reviews):\n",
        "    processed_reviews = [preprocess_text(review) for review in reviews]\n",
        "    sequences = tokenizer.texts_to_sequences(processed_reviews)\n",
        "    padded_sequences = pad_sequences(sequences, padding='post', maxlen=200)\n",
        "    predictions = (model.predict(padded_sequences) > 0.5).astype(\"int32\")\n",
        "    sentiment = ['positive' if pred == 1 else 'negative' for pred in predictions]\n",
        "    return sentiment\n"
      ],
      "metadata": {
        "id": "70gv8P3ancD_"
      },
      "execution_count": 14,
      "outputs": []
    },
    {
      "cell_type": "markdown",
      "source": [
        "#15. Test the model with new reviews"
      ],
      "metadata": {
        "id": "4UN3Z4e62TN0"
      }
    },
    {
      "cell_type": "code",
      "source": [
        "\n",
        "test_reviews = [\n",
        "    \"The movie was fantastic! I really enjoyed it.\",\n",
        "    \"It was a terrible movie. I will not recommend it to anyone.\",\n",
        "    \"The plot was a bit slow, but overall it was a good film.\",\n",
        "    \"I absolutely loved the cinematography. Brilliant work!\",\n",
        "    \"The acting was mediocre and the storyline was predictable.\"\n",
        "]\n",
        "\n",
        "predicted_sentiments = predict_sentiment(test_reviews)"
      ],
      "metadata": {
        "colab": {
          "base_uri": "https://localhost:8080/"
        },
        "id": "Ws_wE92Dn1F-",
        "outputId": "94376b60-d97e-4897-9cf7-991dea99383d"
      },
      "execution_count": 15,
      "outputs": [
        {
          "output_type": "stream",
          "name": "stdout",
          "text": [
            "1/1 [==============================] - 0s 135ms/step\n"
          ]
        }
      ]
    },
    {
      "cell_type": "markdown",
      "source": [
        "#16. Print the results"
      ],
      "metadata": {
        "id": "7D8IjFJR2Y8K"
      }
    },
    {
      "cell_type": "code",
      "source": [
        "for review, sentiment in zip(test_reviews, predicted_sentiments):\n",
        "    print(f\"Review: {review}\\nPredicted Sentiment: {sentiment}\\n\")"
      ],
      "metadata": {
        "colab": {
          "base_uri": "https://localhost:8080/"
        },
        "id": "jtuJWESQn37i",
        "outputId": "f8bc024c-78e9-48e6-f596-785c4a117e6d"
      },
      "execution_count": 16,
      "outputs": [
        {
          "output_type": "stream",
          "name": "stdout",
          "text": [
            "Review: The movie was fantastic! I really enjoyed it.\n",
            "Predicted Sentiment: positive\n",
            "\n",
            "Review: It was a terrible movie. I will not recommend it to anyone.\n",
            "Predicted Sentiment: negative\n",
            "\n",
            "Review: The plot was a bit slow, but overall it was a good film.\n",
            "Predicted Sentiment: positive\n",
            "\n",
            "Review: I absolutely loved the cinematography. Brilliant work!\n",
            "Predicted Sentiment: positive\n",
            "\n",
            "Review: The acting was mediocre and the storyline was predictable.\n",
            "Predicted Sentiment: positive\n",
            "\n"
          ]
        }
      ]
    }
  ]
}